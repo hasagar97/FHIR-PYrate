{
 "cells": [
  {
   "cell_type": "code",
   "execution_count": null,
   "metadata": {},
   "outputs": [],
   "source": [
    "import warnings\n",
    "warnings.filterwarnings('ignore')"
   ]
  },
  {
   "cell_type": "markdown",
   "metadata": {
    "collapsed": false,
    "jupyter": {
     "outputs_hidden": false
    }
   },
   "source": [
    "Let us consider a problem:\n",
    "We have an Patient Resource that we would like to translate to DataFrame.\n",
    "\n",
    "First, we initialize the needed classes."
   ]
  },
  {
   "cell_type": "code",
   "execution_count": 17,
   "metadata": {
    "collapsed": false,
    "jupyter": {
     "outputs_hidden": false
    }
   },
   "outputs": [],
   "source": [
    "from fhir_pyrate import Pirate\n",
    "\n",
    "# # Init authentication for your FHIR server\n",
    "# # Either authenticate with a token\n",
    "# import os\n",
    "# from dotenv import load_dotenv\n",
    "#\n",
    "# load_dotenv()\n",
    "# # I have stored these variables in a .env file\n",
    "# auth = Ahoy(\n",
    "#     auth_type=\"token\",\n",
    "#     auth_method=\"env\",\n",
    "#     auth_url=os.environ[\"BASIC_AUTH\"],\n",
    "#     refresh_url=os.environ[\"REFRESH_AUTH\"],\n",
    "#     # token = ... # The token can also be passed as a variable\n",
    "# )\n",
    "# # Or with BasicAuth\n",
    "# auth = Ahoy(\n",
    "#     auth_type=\"BasicAuth\",\n",
    "#     auth_method=\"env\", # The variables FHIR_USER and FHIR_PASSWORD have your authentication data\n",
    "#     # auth_method=\"password\", # You can also specify username and password\n",
    "#     # username=\"abc\",\n",
    "# )\n",
    "# Init search class\n",
    "search_hapi = Pirate(\n",
    "    auth=None,\n",
    "    base_url=\"http://hapi.fhir.org/baseR4\",\n",
    "    print_request_url=True,  # Set it to true to get the URL calls\n",
    "    num_processes=1,\n",
    ")"
   ]
  },
  {
   "cell_type": "markdown",
   "metadata": {
    "collapsed": false,
    "jupyter": {
     "outputs_hidden": false
    }
   },
   "source": [
    "We can now start with our actual query. Let's assume, for this very simple case, that we know the\n",
    " Observation ID. Then, we just need to call the following function with the Observation resource\n",
    " and the request parameters to obtain our result."
   ]
  },
  {
   "cell_type": "code",
   "execution_count": 18,
   "metadata": {
    "collapsed": false,
    "jupyter": {
     "outputs_hidden": false
    }
   },
   "outputs": [
    {
     "name": "stdout",
     "output_type": "stream",
     "text": [
      "http://hapi.fhir.org/baseR4/Patient/592711\n"
     ]
    },
    {
     "name": "stderr",
     "output_type": "stream",
     "text": [
      "Query & Build DF (Patient): 100%|████████████████████████████████████████████████████████████████████████████████████████████████████████████████████████████████████████████████████████| 1/1 [00:00<?, ?it/s]\n"
     ]
    },
    {
     "data": {
      "text/html": [
       "<div>\n",
       "<style scoped>\n",
       "    .dataframe tbody tr th:only-of-type {\n",
       "        vertical-align: middle;\n",
       "    }\n",
       "\n",
       "    .dataframe tbody tr th {\n",
       "        vertical-align: top;\n",
       "    }\n",
       "\n",
       "    .dataframe thead th {\n",
       "        text-align: right;\n",
       "    }\n",
       "</style>\n",
       "<table border=\"1\" class=\"dataframe\">\n",
       "  <thead>\n",
       "    <tr style=\"text-align: right;\">\n",
       "      <th></th>\n",
       "      <th>resourceType</th>\n",
       "      <th>id</th>\n",
       "      <th>meta_versionId</th>\n",
       "      <th>meta_lastUpdated</th>\n",
       "      <th>meta_source</th>\n",
       "      <th>text_status</th>\n",
       "      <th>text_div</th>\n",
       "      <th>name_0_use</th>\n",
       "      <th>name_0_family</th>\n",
       "      <th>name_0_given_0</th>\n",
       "      <th>...</th>\n",
       "      <th>contact_0_telecom_0_use</th>\n",
       "      <th>contact_0_telecom_1_system</th>\n",
       "      <th>contact_0_telecom_1_value</th>\n",
       "      <th>contact_0_telecom_1_use</th>\n",
       "      <th>contact_1_relationship_0_id</th>\n",
       "      <th>contact_1_relationship_0_text</th>\n",
       "      <th>contact_1_name_use</th>\n",
       "      <th>contact_1_name_family</th>\n",
       "      <th>contact_1_name_given_0</th>\n",
       "      <th>contact_1_name_given_1</th>\n",
       "    </tr>\n",
       "  </thead>\n",
       "  <tbody>\n",
       "    <tr>\n",
       "      <th>0</th>\n",
       "      <td>Patient</td>\n",
       "      <td>592711</td>\n",
       "      <td>1</td>\n",
       "      <td>2020-01-27T12:19:01.783+00:00</td>\n",
       "      <td>#01eyrXGsnCw7XCgI</td>\n",
       "      <td>generated</td>\n",
       "      <td>&lt;div xmlns=\"http://www.w3.org/1999/xhtml\"&gt;&lt;div...</td>\n",
       "      <td>official</td>\n",
       "      <td>Blumentopf</td>\n",
       "      <td>Barbara</td>\n",
       "      <td>...</td>\n",
       "      <td>mobile</td>\n",
       "      <td>fax</td>\n",
       "      <td>sdfdsfsdf</td>\n",
       "      <td>temp</td>\n",
       "      <td>n</td>\n",
       "      <td>Kontaktperson</td>\n",
       "      <td>official</td>\n",
       "      <td>müller</td>\n",
       "      <td>klaus</td>\n",
       "      <td>peter</td>\n",
       "    </tr>\n",
       "  </tbody>\n",
       "</table>\n",
       "<p>1 rows × 42 columns</p>\n",
       "</div>"
      ],
      "text/plain": [
       "  resourceType      id meta_versionId               meta_lastUpdated  \\\n",
       "0      Patient  592711              1  2020-01-27T12:19:01.783+00:00   \n",
       "\n",
       "         meta_source text_status  \\\n",
       "0  #01eyrXGsnCw7XCgI   generated   \n",
       "\n",
       "                                            text_div name_0_use name_0_family  \\\n",
       "0  <div xmlns=\"http://www.w3.org/1999/xhtml\"><div...   official    Blumentopf   \n",
       "\n",
       "  name_0_given_0  ... contact_0_telecom_0_use contact_0_telecom_1_system  \\\n",
       "0        Barbara  ...                  mobile                        fax   \n",
       "\n",
       "  contact_0_telecom_1_value contact_0_telecom_1_use  \\\n",
       "0                 sdfdsfsdf                    temp   \n",
       "\n",
       "  contact_1_relationship_0_id contact_1_relationship_0_text  \\\n",
       "0                           n                 Kontaktperson   \n",
       "\n",
       "  contact_1_name_use contact_1_name_family contact_1_name_given_0  \\\n",
       "0           official                müller                  klaus   \n",
       "\n",
       "  contact_1_name_given_1  \n",
       "0                  peter  \n",
       "\n",
       "[1 rows x 42 columns]"
      ]
     },
     "execution_count": 18,
     "metadata": {},
     "output_type": "execute_result"
    }
   ],
   "source": [
    "patient_all = search_hapi.steal_bundles_to_dataframe(  # Non-parallel function that iterates through the bundles and returns them\n",
    "    resource_type=\"Patient\",\n",
    "    request_params={\n",
    "        \"_id\": \"592711\",\n",
    "    },\n",
    ")\n",
    "patient_all"
   ]
  },
  {
   "cell_type": "markdown",
   "metadata": {},
   "source": [
    "## Comparing the above data frame to json data\n",
    "\n",
    "- At first glance and comparison of the Json with the above dataframe we can say that the json to datafame translation is good, *next validate for more resources and different servers*\n",
    "- [ ] TODO: Validate for other resources\n",
    "\n",
    "The Json retrieved from http://hapi.fhir.org/baseR4/Patient/592711\n",
    "```json\n",
    "{\r\n",
    "  \"resourceType\": \"Patient\",\r\n",
    "  \"id\": \"592711\",\r\n",
    "  \"meta\": {\r\n",
    "    \"versionId\": \"1\",\r\n",
    "    \"lastUpdated\": \"2020-01-27T12:19:01.783+00:00\",\r\n",
    "    \"source\": \"#01eyrXGsnCw7XCgI\"\r\n",
    "  },\r\n",
    "  \"text\": {\r\n",
    "    \"status\": \"generated\",\r\n",
    "    \"div\": \"<div xmlns=\\\"http://www.w3.org/1999/xhtml\\\"><div class=\\\"hapiHeaderText\\\">Barbara <b>BLUMENTOPF </b></div><table class=\\\"hapiPropertyTable\\\"><tbody><tr><td>Address</td><td><span>Frankenstrasse 7 </span><br/><span>Kerala </span><span>HH </span><span>Deutschland </span></td></tr></tbody></table></div>\"\r\n",
    "  },\r\n",
    "  \"name\": [ {\r\n",
    "    \"use\": \"official\",\r\n",
    "    \"family\": \"Blumentopf\",\r\n",
    "    \"given\": [ \"Barbara\" ]\r\n",
    "  }, {\r\n",
    "    \"use\": \"maiden\",\r\n",
    "    \"family\": \"wazz\"\r\n",
    "  } ],\r\n",
    "  \"telecom\": [ {\r\n",
    "    \"system\": \"phone\",\r\n",
    "    \"value\": \"0405687522\",\r\n",
    "    \"use\": \"mobile\"\r\n",
    "  }, {\r\n",
    "    \"system\": \"email\",\r\n",
    "    \"value\": \"dhduhsdf@dfgg.de\",\r\n",
    "    \"use\": \"work\"\r\n",
    "  } ],\r\n",
    "  \"gender\": \"male\",\r\n",
    "  \"address\": [ {\r\n",
    "    \"use\": \"work\",\r\n",
    "    \"line\": [ \"Frankenstrasse 7\" ],\r\n",
    "    \"city\": \"Kerala\",\r\n",
    "    \"state\": \"HH\",\r\n",
    "    \"postalCode\": \"20097\",\r\n",
    "    \"country\": \"Deutschland\"\r\n",
    "  } ],\r\n",
    "  \"contact\": [ {\r\n",
    "    \"relationship\": [ {\r\n",
    "      \"id\": \"w\",\r\n",
    "      \"text\": \"Arbeitgeber\"\r\n",
    "    } ],\r\n",
    "    \"name\": {\r\n",
    "      \"use\": \"official\",\r\n",
    "      \"family\": \"Targareyan\",\r\n",
    "      \"given\": [ \"Daenerys\" ]\r\n",
    "    },\r\n",
    "    \"telecom\": [ {\r\n",
    "      \"system\": \"email\",\r\n",
    "      \"value\": \"kkskrishnasai99@sdfsd.de\",\r\n",
    "      \"use\": \"mobile\"\r\n",
    "    }, {\r\n",
    "      \"system\": \"fax\",\r\n",
    "      \"value\": \"sdfdsfsdf\",\r\n",
    "      \"use\": \"temp\"\r\n",
    "    } ]\r\n",
    "  }, {\r\n",
    "    \"relationship\": [ {\r\n",
    "      \"id\": \"n\",\r\n",
    "      \"text\": \"Kontaktperson\"\r\n",
    "    } ],\r\n",
    "    \"name\": {\r\n",
    "      \"use\": \"official\",\r\n",
    "      \"family\": \"müller\",\r\n",
    "      \"given\": [ \"klaus\", \"peter\" ]\r\n",
    "    }\r\n",
    "  } ]\r\n",
    "} \"John\" ]\r\n",
    "  } ]\r\n",
    "}\n",
    "```"
   ]
  },
  {
   "cell_type": "markdown",
   "metadata": {},
   "source": [
    "## Now we pull similar data(patient resource) from another FHIR server\n",
    "- List of public servers: https://confluence.hl7.org/display/FHIR/Public+Test+Servers"
   ]
  },
  {
   "cell_type": "code",
   "execution_count": 16,
   "metadata": {},
   "outputs": [],
   "source": [
    "# Pirate search params\n",
    "search_hl7 = Pirate(\n",
    "    auth=None,\n",
    "    base_url=\"http://test.fhir.org/r4\",\n",
    "    print_request_url=True,  # Set it to true to get the URL calls\n",
    "    num_processes=1,\n",
    ")"
   ]
  },
  {
   "cell_type": "code",
   "execution_count": 20,
   "metadata": {},
   "outputs": [
    {
     "name": "stderr",
     "output_type": "stream",
     "text": [
      "ERROR:fhir_pyrate.pirate:Traceback (most recent call last):\n",
      "  File \"C:\\Users\\hsagar1.ASURITE\\AppData\\Local\\Packages\\PythonSoftwareFoundation.Python.3.11_qbz5n2kfra8p0\\LocalCache\\local-packages\\Python311\\site-packages\\urllib3\\connection.py\", line 203, in _new_conn\n",
      "    sock = connection.create_connection(\n",
      "           ^^^^^^^^^^^^^^^^^^^^^^^^^^^^^\n",
      "  File \"C:\\Users\\hsagar1.ASURITE\\AppData\\Local\\Packages\\PythonSoftwareFoundation.Python.3.11_qbz5n2kfra8p0\\LocalCache\\local-packages\\Python311\\site-packages\\urllib3\\util\\connection.py\", line 85, in create_connection\n",
      "    raise err\n",
      "  File \"C:\\Users\\hsagar1.ASURITE\\AppData\\Local\\Packages\\PythonSoftwareFoundation.Python.3.11_qbz5n2kfra8p0\\LocalCache\\local-packages\\Python311\\site-packages\\urllib3\\util\\connection.py\", line 73, in create_connection\n",
      "    sock.connect(sa)\n",
      "TimeoutError: [WinError 10060] A connection attempt failed because the connected party did not properly respond after a period of time, or established connection failed because connected host has failed to respond\n",
      "\n",
      "The above exception was the direct cause of the following exception:\n",
      "\n",
      "Traceback (most recent call last):\n",
      "  File \"C:\\Users\\hsagar1.ASURITE\\AppData\\Local\\Packages\\PythonSoftwareFoundation.Python.3.11_qbz5n2kfra8p0\\LocalCache\\local-packages\\Python311\\site-packages\\urllib3\\connectionpool.py\", line 790, in urlopen\n",
      "    response = self._make_request(\n",
      "               ^^^^^^^^^^^^^^^^^^^\n",
      "  File \"C:\\Users\\hsagar1.ASURITE\\AppData\\Local\\Packages\\PythonSoftwareFoundation.Python.3.11_qbz5n2kfra8p0\\LocalCache\\local-packages\\Python311\\site-packages\\urllib3\\connectionpool.py\", line 496, in _make_request\n",
      "    conn.request(\n",
      "  File \"C:\\Users\\hsagar1.ASURITE\\AppData\\Local\\Packages\\PythonSoftwareFoundation.Python.3.11_qbz5n2kfra8p0\\LocalCache\\local-packages\\Python311\\site-packages\\urllib3\\connection.py\", line 395, in request\n",
      "    self.endheaders()\n",
      "  File \"C:\\Program Files\\WindowsApps\\PythonSoftwareFoundation.Python.3.11_3.11.1520.0_x64__qbz5n2kfra8p0\\Lib\\http\\client.py\", line 1281, in endheaders\n",
      "    self._send_output(message_body, encode_chunked=encode_chunked)\n",
      "  File \"C:\\Program Files\\WindowsApps\\PythonSoftwareFoundation.Python.3.11_3.11.1520.0_x64__qbz5n2kfra8p0\\Lib\\http\\client.py\", line 1041, in _send_output\n",
      "    self.send(msg)\n",
      "  File \"C:\\Program Files\\WindowsApps\\PythonSoftwareFoundation.Python.3.11_3.11.1520.0_x64__qbz5n2kfra8p0\\Lib\\http\\client.py\", line 979, in send\n",
      "    self.connect()\n",
      "  File \"C:\\Users\\hsagar1.ASURITE\\AppData\\Local\\Packages\\PythonSoftwareFoundation.Python.3.11_qbz5n2kfra8p0\\LocalCache\\local-packages\\Python311\\site-packages\\urllib3\\connection.py\", line 243, in connect\n",
      "    self.sock = self._new_conn()\n",
      "                ^^^^^^^^^^^^^^^^\n",
      "  File \"C:\\Users\\hsagar1.ASURITE\\AppData\\Local\\Packages\\PythonSoftwareFoundation.Python.3.11_qbz5n2kfra8p0\\LocalCache\\local-packages\\Python311\\site-packages\\urllib3\\connection.py\", line 212, in _new_conn\n",
      "    raise ConnectTimeoutError(\n",
      "urllib3.exceptions.ConnectTimeoutError: (<urllib3.connection.HTTPConnection object at 0x000002A2C25C2250>, 'Connection to test.fhir.org timed out. (connect timeout=None)')\n",
      "\n",
      "The above exception was the direct cause of the following exception:\n",
      "\n",
      "Traceback (most recent call last):\n",
      "  File \"C:\\Users\\hsagar1.ASURITE\\AppData\\Local\\Packages\\PythonSoftwareFoundation.Python.3.11_qbz5n2kfra8p0\\LocalCache\\local-packages\\Python311\\site-packages\\requests\\adapters.py\", line 486, in send\n",
      "    resp = conn.urlopen(\n",
      "           ^^^^^^^^^^^^^\n",
      "  File \"C:\\Users\\hsagar1.ASURITE\\AppData\\Local\\Packages\\PythonSoftwareFoundation.Python.3.11_qbz5n2kfra8p0\\LocalCache\\local-packages\\Python311\\site-packages\\urllib3\\connectionpool.py\", line 844, in urlopen\n",
      "    retries = retries.increment(\n",
      "              ^^^^^^^^^^^^^^^^^^\n",
      "  File \"C:\\Users\\hsagar1.ASURITE\\AppData\\Local\\Packages\\PythonSoftwareFoundation.Python.3.11_qbz5n2kfra8p0\\LocalCache\\local-packages\\Python311\\site-packages\\urllib3\\util\\retry.py\", line 515, in increment\n",
      "    raise MaxRetryError(_pool, url, reason) from reason  # type: ignore[arg-type]\n",
      "    ^^^^^^^^^^^^^^^^^^^^^^^^^^^^^^^^^^^^^^^^^^^^^^^^^^^\n",
      "urllib3.exceptions.MaxRetryError: HTTPConnectionPool(host='test.fhir.org', port=80): Max retries exceeded with url: /r4/Patient/592711 (Caused by ConnectTimeoutError(<urllib3.connection.HTTPConnection object at 0x000002A2C25C2250>, 'Connection to test.fhir.org timed out. (connect timeout=None)'))\n",
      "\n",
      "During handling of the above exception, another exception occurred:\n",
      "\n",
      "Traceback (most recent call last):\n",
      "  File \"C:\\Users\\hsagar1.ASURITE\\AppData\\Local\\Packages\\PythonSoftwareFoundation.Python.3.11_qbz5n2kfra8p0\\LocalCache\\local-packages\\Python311\\site-packages\\fhir_pyrate\\pirate.py\", line 922, in _get_response\n",
      "    response = self.session.get(request_url, **self.optional_get_params)\n",
      "               ^^^^^^^^^^^^^^^^^^^^^^^^^^^^^^^^^^^^^^^^^^^^^^^^^^^^^^^^^\n",
      "  File \"C:\\Users\\hsagar1.ASURITE\\AppData\\Local\\Packages\\PythonSoftwareFoundation.Python.3.11_qbz5n2kfra8p0\\LocalCache\\local-packages\\Python311\\site-packages\\requests\\sessions.py\", line 602, in get\n",
      "    return self.request(\"GET\", url, **kwargs)\n",
      "           ^^^^^^^^^^^^^^^^^^^^^^^^^^^^^^^^^^\n",
      "  File \"C:\\Users\\hsagar1.ASURITE\\AppData\\Local\\Packages\\PythonSoftwareFoundation.Python.3.11_qbz5n2kfra8p0\\LocalCache\\local-packages\\Python311\\site-packages\\requests\\sessions.py\", line 589, in request\n",
      "    resp = self.send(prep, **send_kwargs)\n",
      "           ^^^^^^^^^^^^^^^^^^^^^^^^^^^^^^\n",
      "  File \"C:\\Users\\hsagar1.ASURITE\\AppData\\Local\\Packages\\PythonSoftwareFoundation.Python.3.11_qbz5n2kfra8p0\\LocalCache\\local-packages\\Python311\\site-packages\\requests\\sessions.py\", line 703, in send\n",
      "    r = adapter.send(request, **kwargs)\n",
      "        ^^^^^^^^^^^^^^^^^^^^^^^^^^^^^^^\n",
      "  File \"C:\\Users\\hsagar1.ASURITE\\AppData\\Local\\Packages\\PythonSoftwareFoundation.Python.3.11_qbz5n2kfra8p0\\LocalCache\\local-packages\\Python311\\site-packages\\requests\\adapters.py\", line 507, in send\n",
      "    raise ConnectTimeout(e, request=request)\n",
      "requests.exceptions.ConnectTimeout: HTTPConnectionPool(host='test.fhir.org', port=80): Max retries exceeded with url: /r4/Patient/592711 (Caused by ConnectTimeoutError(<urllib3.connection.HTTPConnection object at 0x000002A2C25C2250>, 'Connection to test.fhir.org timed out. (connect timeout=None)'))\n",
      "\n",
      "Query & Build DF (Patient): 0it [00:00, ?it/s]\n"
     ]
    },
    {
     "data": {
      "text/plain": [
       "{}"
      ]
     },
     "execution_count": 20,
     "metadata": {},
     "output_type": "execute_result"
    }
   ],
   "source": [
    "patient_all_hl7 = search_hl7.steal_bundles_to_dataframe(  # Non-parallel function that iterates through the bundles and returns them\n",
    "    resource_type=\"Patient\",\n",
    "    request_params={\n",
    "        \"_id\": \"592711\",\n",
    "    },\n",
    ")\n",
    "patient_all_hl7"
   ]
  },
  {
   "cell_type": "code",
   "execution_count": null,
   "metadata": {},
   "outputs": [],
   "source": []
  },
  {
   "cell_type": "code",
   "execution_count": null,
   "metadata": {},
   "outputs": [],
   "source": []
  },
  {
   "cell_type": "code",
   "execution_count": null,
   "metadata": {},
   "outputs": [],
   "source": []
  },
  {
   "cell_type": "code",
   "execution_count": null,
   "metadata": {},
   "outputs": [],
   "source": []
  },
  {
   "cell_type": "code",
   "execution_count": null,
   "metadata": {},
   "outputs": [],
   "source": []
  },
  {
   "cell_type": "code",
   "execution_count": null,
   "metadata": {},
   "outputs": [],
   "source": []
  },
  {
   "cell_type": "markdown",
   "metadata": {},
   "source": [
    "# Gamma Zone\n",
    "- This section includes reference code, experimentations etc.."
   ]
  },
  {
   "cell_type": "markdown",
   "metadata": {
    "collapsed": false,
    "jupyter": {
     "outputs_hidden": false
    }
   },
   "source": [
    "Let us consider a problem:\n",
    "We have an Observation that we would like to translate to DataFrame.\n",
    "\n",
    "First, we initialize the needed classes."
   ]
  },
  {
   "cell_type": "code",
   "execution_count": 1,
   "metadata": {
    "collapsed": false,
    "jupyter": {
     "outputs_hidden": false
    }
   },
   "outputs": [
    {
     "name": "stderr",
     "output_type": "stream",
     "text": [
      "C:\\Users\\hsagar1.ASURITE\\AppData\\Local\\Packages\\PythonSoftwareFoundation.Python.3.11_qbz5n2kfra8p0\\LocalCache\\local-packages\\Python311\\site-packages\\tqdm\\auto.py:21: TqdmWarning: IProgress not found. Please update jupyter and ipywidgets. See https://ipywidgets.readthedocs.io/en/stable/user_install.html\n",
      "  from .autonotebook import tqdm as notebook_tqdm\n"
     ]
    }
   ],
   "source": [
    "from fhir_pyrate import Pirate\n",
    "\n",
    "# # Init authentication for your FHIR server\n",
    "# # Either authenticate with a token\n",
    "# import os\n",
    "# from dotenv import load_dotenv\n",
    "#\n",
    "# load_dotenv()\n",
    "# # I have stored these variables in a .env file\n",
    "# auth = Ahoy(\n",
    "#     auth_type=\"token\",\n",
    "#     auth_method=\"env\",\n",
    "#     auth_url=os.environ[\"BASIC_AUTH\"],\n",
    "#     refresh_url=os.environ[\"REFRESH_AUTH\"],\n",
    "#     # token = ... # The token can also be passed as a variable\n",
    "# )\n",
    "# # Or with BasicAuth\n",
    "# auth = Ahoy(\n",
    "#     auth_type=\"BasicAuth\",\n",
    "#     auth_method=\"env\", # The variables FHIR_USER and FHIR_PASSWORD have your authentication data\n",
    "#     # auth_method=\"password\", # You can also specify username and password\n",
    "#     # username=\"abc\",\n",
    "# )\n",
    "# Init search class\n",
    "search = Pirate(\n",
    "    auth=None,\n",
    "    base_url=\"http://hapi.fhir.org/baseDstu2\",\n",
    "    print_request_url=True,  # Set it to true to get the URL calls\n",
    "    num_processes=1,\n",
    ")"
   ]
  },
  {
   "cell_type": "markdown",
   "metadata": {
    "collapsed": false,
    "jupyter": {
     "outputs_hidden": false
    }
   },
   "source": [
    "We can now start with our actual query. Let's assume, for this very simple case, that we know the\n",
    " Observation ID. Then, we just need to call the following function with the Observation resource\n",
    " and the request parameters to obtain our result."
   ]
  },
  {
   "cell_type": "code",
   "execution_count": 2,
   "metadata": {
    "collapsed": false,
    "jupyter": {
     "outputs_hidden": false
    }
   },
   "outputs": [
    {
     "name": "stdout",
     "output_type": "stream",
     "text": [
      "http://hapi.fhir.org/baseDstu2/Patient/131\n"
     ]
    },
    {
     "name": "stderr",
     "output_type": "stream",
     "text": [
      "Query & Build DF (Patient): 100%|█████████████████████████████████████████████████████████████████████████████████████████████████████████████████████████████████████████████████████████████████████████| 1/1 [00:00<?, ?it/s]\n"
     ]
    },
    {
     "data": {
      "text/html": [
       "<div>\n",
       "<style scoped>\n",
       "    .dataframe tbody tr th:only-of-type {\n",
       "        vertical-align: middle;\n",
       "    }\n",
       "\n",
       "    .dataframe tbody tr th {\n",
       "        vertical-align: top;\n",
       "    }\n",
       "\n",
       "    .dataframe thead th {\n",
       "        text-align: right;\n",
       "    }\n",
       "</style>\n",
       "<table border=\"1\" class=\"dataframe\">\n",
       "  <thead>\n",
       "    <tr style=\"text-align: right;\">\n",
       "      <th></th>\n",
       "      <th>resourceType</th>\n",
       "      <th>id</th>\n",
       "      <th>meta_versionId</th>\n",
       "      <th>meta_lastUpdated</th>\n",
       "      <th>text_status</th>\n",
       "      <th>text_div</th>\n",
       "      <th>identifier_0_system</th>\n",
       "      <th>identifier_0_value</th>\n",
       "      <th>name_0_family_0</th>\n",
       "      <th>name_0_given_0</th>\n",
       "    </tr>\n",
       "  </thead>\n",
       "  <tbody>\n",
       "    <tr>\n",
       "      <th>0</th>\n",
       "      <td>Patient</td>\n",
       "      <td>131</td>\n",
       "      <td>1</td>\n",
       "      <td>2018-10-04T18:06:32.222+00:00</td>\n",
       "      <td>generated</td>\n",
       "      <td>&lt;div xmlns=\"http://www.w3.org/1999/xhtml\"&gt;&lt;div...</td>\n",
       "      <td>urn:system</td>\n",
       "      <td>12345</td>\n",
       "      <td>Smith</td>\n",
       "      <td>John</td>\n",
       "    </tr>\n",
       "  </tbody>\n",
       "</table>\n",
       "</div>"
      ],
      "text/plain": [
       "  resourceType   id meta_versionId               meta_lastUpdated text_status  \\\n",
       "0      Patient  131              1  2018-10-04T18:06:32.222+00:00   generated   \n",
       "\n",
       "                                            text_div identifier_0_system  \\\n",
       "0  <div xmlns=\"http://www.w3.org/1999/xhtml\"><div...          urn:system   \n",
       "\n",
       "  identifier_0_value name_0_family_0 name_0_given_0  \n",
       "0              12345           Smith           John  "
      ]
     },
     "execution_count": 2,
     "metadata": {},
     "output_type": "execute_result"
    }
   ],
   "source": [
    "observation_all = search.steal_bundles_to_dataframe(  # Non-parallel function that iterates through the bundles and returns them\n",
    "    resource_type=\"Observation\",\n",
    "    request_params={\n",
    "        \"_id\": \"86092\",\n",
    "    },\n",
    ")\n",
    "observation_all"
   ]
  },
  {
   "cell_type": "markdown",
   "metadata": {
    "collapsed": false,
    "jupyter": {
     "outputs_hidden": false
    }
   },
   "source": [
    "And there it is, the JSON has been now stored into a DataFrame. As you see, the amount of\n",
    "information is a bit much, there are things that we do not need at all.\n",
    "Let us assume that we are only interested in the FHIR patient ID, the date and the values. Since\n",
    "these values are quite easy to get, we can use the `fhir_paths` parameter.\n",
    "Remember to install [fhirpath-py](https://github.com/beda-software/fhirpath-py) to use the\n",
    "`fhir_paths` parameter."
   ]
  },
  {
   "cell_type": "code",
   "execution_count": 6,
   "metadata": {
    "collapsed": false,
    "jupyter": {
     "outputs_hidden": false
    }
   },
   "outputs": [
    {
     "name": "stdout",
     "output_type": "stream",
     "text": [
      "http://hapi.fhir.org/baseDstu2/Observation/86092\n"
     ]
    },
    {
     "name": "stderr",
     "output_type": "stream",
     "text": [
      "Query & Build DF (Observation): 100%|██████████| 1/1 [00:00<00:00, 1379.71it/s]\n"
     ]
    },
    {
     "data": {
      "text/html": [
       "<div>\n",
       "<style scoped>\n",
       "    .dataframe tbody tr th:only-of-type {\n",
       "        vertical-align: middle;\n",
       "    }\n",
       "\n",
       "    .dataframe tbody tr th {\n",
       "        vertical-align: top;\n",
       "    }\n",
       "\n",
       "    .dataframe thead th {\n",
       "        text-align: right;\n",
       "    }\n",
       "</style>\n",
       "<table border=\"1\" class=\"dataframe\">\n",
       "  <thead>\n",
       "    <tr style=\"text-align: right;\">\n",
       "      <th></th>\n",
       "      <th>id</th>\n",
       "      <th>effectiveDateTime</th>\n",
       "      <th>value</th>\n",
       "      <th>unit</th>\n",
       "      <th>patient</th>\n",
       "    </tr>\n",
       "  </thead>\n",
       "  <tbody>\n",
       "    <tr>\n",
       "      <th>0</th>\n",
       "      <td>86092</td>\n",
       "      <td>2011-03-10T20:47:29-05:00</td>\n",
       "      <td>6.079781</td>\n",
       "      <td>kg</td>\n",
       "      <td>86079</td>\n",
       "    </tr>\n",
       "  </tbody>\n",
       "</table>\n",
       "</div>"
      ],
      "text/plain": [
       "      id          effectiveDateTime     value unit patient\n",
       "0  86092  2011-03-10T20:47:29-05:00  6.079781   kg   86079"
      ]
     },
     "execution_count": 6,
     "metadata": {},
     "output_type": "execute_result"
    }
   ],
   "source": [
    "observation_values = search.steal_bundles_to_dataframe(\n",
    "    resource_type=\"Observation\",\n",
    "    request_params={\n",
    "        \"_count\": 1,\n",
    "        \"_id\": \"86092\",\n",
    "    },\n",
    "    fhir_paths=[\n",
    "        \"id\",\n",
    "        \"effectiveDateTime\",\n",
    "        (\"value\", \"valueQuantity.value\"),\n",
    "        (\"unit\", \"valueQuantity.unit\"),\n",
    "        (\"patient\", \"subject.reference.replace('Patient/', ''\"),\n",
    "    ],\n",
    ")\n",
    "observation_values"
   ]
  },
  {
   "cell_type": "markdown",
   "metadata": {
    "collapsed": false,
    "jupyter": {
     "outputs_hidden": false
    }
   },
   "source": [
    "And there it is, our patient with the values we wanted!"
   ]
  },
  {
   "cell_type": "markdown",
   "metadata": {
    "collapsed": false,
    "jupyter": {
     "outputs_hidden": false
    }
   },
   "source": []
  }
 ],
 "metadata": {
  "kernelspec": {
   "display_name": "Python 3 (ipykernel)",
   "language": "python",
   "name": "python3"
  },
  "language_info": {
   "codemirror_mode": {
    "name": "ipython",
    "version": 3
   },
   "file_extension": ".py",
   "mimetype": "text/x-python",
   "name": "python",
   "nbconvert_exporter": "python",
   "pygments_lexer": "ipython3",
   "version": "3.11.5"
  }
 },
 "nbformat": 4,
 "nbformat_minor": 4
}
